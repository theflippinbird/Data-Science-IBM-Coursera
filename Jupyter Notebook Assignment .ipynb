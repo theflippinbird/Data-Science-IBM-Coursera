{
    "cells": [
        {
            "metadata": {},
            "cell_type": "markdown",
            "source": "# My Jupyter Notebook on IBM Watson Studio"
        },
        {
            "metadata": {},
            "cell_type": "markdown",
            "source": "**Christa Hewett**\n\nUndetermined. Maybe a Data Scientist, possibly a Full Stack Developer."
        },
        {
            "metadata": {},
            "cell_type": "markdown",
            "source": "*I am interested in data science because it provides a multitude of future career paths. Also because I like being the person behind the curtain.*"
        },
        {
            "metadata": {},
            "cell_type": "markdown",
            "source": "### My code in cell 5 is supposed to solve a mathematical equation."
        },
        {
            "metadata": {
                "scrolled": true
            },
            "cell_type": "code",
            "source": "a=6\nb=4\na+b",
            "execution_count": 9,
            "outputs": [
                {
                    "output_type": "execute_result",
                    "execution_count": 9,
                    "data": {
                        "text/plain": "10"
                    },
                    "metadata": {}
                }
            ]
        },
        {
            "metadata": {},
            "cell_type": "markdown",
            "source": "[My cute pup Maddy](https://pbs.twimg.com/media/EGaanAPWwAAx3wC?format=jpg&name=small)\n\n---\n\n**Courses to Complete**\n1. ~~What is Data Science?~~\n2. ~~Tools for Data Science~~\n3. Data Science Methodology\n4. Python for Data Science and AI\n5. Databases and SQL for Data Science\n6. Data Analysis with Python\n7. Data Visualization with Python\n8. Machine Learning with Python\n9. Applied Data Science Capstone\n\n---\n\n>Good luck to everyone! This has been a great start!"
        },
        {
            "metadata": {},
            "cell_type": "code",
            "source": "",
            "execution_count": null,
            "outputs": []
        }
    ],
    "metadata": {
        "kernelspec": {
            "name": "python3",
            "display_name": "Python 3.6",
            "language": "python"
        },
        "language_info": {
            "name": "python",
            "version": "3.6.9",
            "mimetype": "text/x-python",
            "codemirror_mode": {
                "name": "ipython",
                "version": 3
            },
            "pygments_lexer": "ipython3",
            "nbconvert_exporter": "python",
            "file_extension": ".py"
        }
    },
    "nbformat": 4,
    "nbformat_minor": 1
}